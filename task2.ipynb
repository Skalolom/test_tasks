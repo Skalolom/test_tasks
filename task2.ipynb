{
 "cells": [
  {
   "cell_type": "code",
   "execution_count": 20,
   "metadata": {},
   "outputs": [
    {
     "name": "stdout",
     "output_type": "stream",
     "text": [
      "время выполнения своей сортировки = 9.568 с\n",
      "время выполнения сортировки здорового человека = 0.000671 с\n"
     ]
    }
   ],
   "source": [
    "import numpy as np\n",
    "import time\n",
    "\n",
    "# реализуем сортировку вставками\n",
    "def insertion_sort(a):\n",
    "    for i in range(a.shape[0]):\n",
    "        k = a[i]\n",
    "        j = i - 1\n",
    "        while a[j]>k and j>=0:\n",
    "            a[j+1]=a[j]\n",
    "            j -= 1\n",
    "        a[j+1] = k\n",
    "    return a\n",
    "\n",
    "n = int(1e4)\n",
    "rng = np.random.default_rng()\n",
    "a = rng.random(n)\n",
    "\n",
    "start = time.time()\n",
    "insertion_sort(a)\n",
    "finish = time.time()\n",
    "print('время выполнения своей сортировки = {} с'.format(np.round(finish-start, 3)))\n",
    "\n",
    "b = rng.random(n)\n",
    "start = time.time()\n",
    "b_sorted_py = np.sort(b)\n",
    "finish = time.time()\n",
    "print('время выполнения сортировки здорового человека = {} с'.format(np.round(finish-start, 6)))"
   ]
  },
  {
   "cell_type": "code",
   "execution_count": null,
   "metadata": {},
   "outputs": [],
   "source": []
  }
 ],
 "metadata": {
  "kernelspec": {
   "display_name": "Python 3",
   "language": "python",
   "name": "python3"
  },
  "language_info": {
   "codemirror_mode": {
    "name": "ipython",
    "version": 3
   },
   "file_extension": ".py",
   "mimetype": "text/x-python",
   "name": "python",
   "nbconvert_exporter": "python",
   "pygments_lexer": "ipython3",
   "version": "3.8.3"
  }
 },
 "nbformat": 4,
 "nbformat_minor": 4
}
